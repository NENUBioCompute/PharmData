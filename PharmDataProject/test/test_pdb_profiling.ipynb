{
 "cells": [
  {
   "cell_type": "code",
   "execution_count": 1,
   "id": "initial_id",
   "metadata": {
    "collapsed": true,
    "ExecuteTime": {
     "end_time": "2024-05-06T07:28:57.093948700Z",
     "start_time": "2024-05-06T07:28:55.711389700Z"
    }
   },
   "outputs": [],
   "source": [
    "from pdb_profiling import default_config\n",
    "from pdb_profiling.processors import Identifier\n",
    "\n"
   ]
  },
  {
   "cell_type": "code",
   "execution_count": 2,
   "outputs": [
    {
     "name": "stdout",
     "output_type": "stream",
     "text": [
      "('ENSG00000268895', 'NaN', 'NaN', False)\n"
     ]
    }
   ],
   "source": [
    "default_config('./')\n",
    "\n",
    "demo = Identifier('ENSG00000268895')\n",
    "print(demo.map2unp().result())"
   ],
   "metadata": {
    "collapsed": false,
    "ExecuteTime": {
     "end_time": "2024-05-06T07:28:59.938904700Z",
     "start_time": "2024-05-06T07:28:57.072878600Z"
    }
   },
   "id": "f4195d452c0651e4"
  },
  {
   "cell_type": "code",
   "execution_count": 10,
   "outputs": [
    {
     "name": "stdout",
     "output_type": "stream",
     "text": [
      "('ENST00000431387', 'P21359', 'P21359-5', False)\n"
     ]
    }
   ],
   "source": [
    "\n"
   ],
   "metadata": {
    "collapsed": false,
    "ExecuteTime": {
     "end_time": "2024-05-06T07:12:07.626871100Z",
     "start_time": "2024-05-06T07:12:07.583806700Z"
    }
   },
   "id": "bfd5534f71c57e11"
  },
  {
   "cell_type": "code",
   "execution_count": null,
   "outputs": [],
   "source": [
    "# print(f\"UniProt Entry: {entry}, UniProt Isoform: {isoform}\")"
   ],
   "metadata": {
    "collapsed": false
   },
   "id": "41f7c3b08d4b53da"
  }
 ],
 "metadata": {
  "kernelspec": {
   "display_name": "Python 3",
   "language": "python",
   "name": "python3"
  },
  "language_info": {
   "codemirror_mode": {
    "name": "ipython",
    "version": 2
   },
   "file_extension": ".py",
   "mimetype": "text/x-python",
   "name": "python",
   "nbconvert_exporter": "python",
   "pygments_lexer": "ipython2",
   "version": "2.7.6"
  }
 },
 "nbformat": 4,
 "nbformat_minor": 5
}
