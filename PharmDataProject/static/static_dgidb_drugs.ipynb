{
 "cells": [
  {
   "cell_type": "code",
   "execution_count": 1,
   "id": "initial_id",
   "metadata": {
    "collapsed": true,
    "ExecuteTime": {
     "end_time": "2024-06-11T13:28:09.883783500Z",
     "start_time": "2024-06-11T13:28:09.564460200Z"
    }
   },
   "outputs": [],
   "source": [
    "import configparser\n",
    "from PharmDataProject.Utilities.Database.dbutils import DBconnection\n",
    "config = configparser.ConfigParser()\n",
    "cfgfile = \"../conf/drugkb.config\"\n",
    "config.read(cfgfile)\n",
    "\n",
    "db_dgi_drug = DBconnection(cfgfile, config.get('dgidb', 'db_name'), config.get('dgidb', 'col_name_2'))"
   ]
  },
  {
   "cell_type": "code",
   "execution_count": 3,
   "outputs": [
    {
     "name": "stdout",
     "output_type": "stream",
     "text": [
      "Drug Claim Source: Ensembl, Count: 60671\n",
      "Drug Claim Source: Pharos, Count: 6037\n",
      "Drug Claim Source: HingoraniCasas, Count: 4479\n",
      "Drug Claim Source: GO, Count: 3404\n",
      "Drug Claim Source: RussLampel, Count: 3361\n",
      "Drug Claim Source: GuideToPharmacology, Count: 2942\n",
      "Drug Claim Source: HopkinsGroom, Count: 2676\n",
      "Drug Claim Source: dGene, Count: 2257\n",
      "Drug Claim Source: TTD, Count: 2040\n",
      "Drug Claim Source: HumanProteinAtlas, Count: 1325\n",
      "Drug Claim Source: PharmGKB, Count: 1274\n",
      "Drug Claim Source: ChemblInteractions, Count: 1085\n",
      "Drug Claim Source: NCI, Count: 1045\n",
      "Drug Claim Source: DTC, Count: 1016\n",
      "Drug Claim Source: TdgClinicalTrial, Count: 1016\n",
      "Drug Claim Source: FoundationOneGenes, Count: 664\n",
      "Drug Claim Source: CarisMolecularIntelligence, Count: 608\n",
      "Drug Claim Source: Tempus, Count: 596\n",
      "Drug Claim Source: TEND, Count: 437\n",
      "Drug Claim Source: MskImpact, Count: 350\n",
      "Drug Claim Source: IDG, Count: 329\n",
      "Drug Claim Source: BaderLabGenes, Count: 300\n",
      "Drug Claim Source: CIViC, Count: 252\n",
      "Drug Claim Source: TALC, Count: 191\n",
      "Drug Claim Source: MyCancerGenome, Count: 182\n",
      "Drug Claim Source: Oncomine, Count: 161\n",
      "Drug Claim Source: ClearityFoundationClinicalTrial, Count: 108\n",
      "Drug Claim Source: FDA, Count: 89\n",
      "Drug Claim Source: JAX-CKB, Count: 86\n",
      "Drug Claim Source: MyCancerGenomeClinicalTrial, Count: 83\n",
      "Drug Claim Source: OncoKB, Count: 55\n",
      "Drug Claim Source: CancerCommons, Count: 48\n",
      "Drug Claim Source: DoCM, Count: 35\n",
      "Drug Claim Source: ClearityFoundationBiomarkers, Count: 34\n",
      "Drug Claim Source: COSMIC, Count: 15\n"
     ]
    }
   ],
   "source": [
    "pipeline = [\n",
    "    {\n",
    "        \"$group\": {\n",
    "            \"_id\": \"$gene_claim_source\",\n",
    "            \"count\": {\"$sum\": 1}\n",
    "        }\n",
    "    },\n",
    "    {\n",
    "        \"$sort\": {\"count\": -1}  # sort by count in descending order\n",
    "    }\n",
    "]\n",
    "\n",
    "# Execute the aggregation pipeline\n",
    "results = db_dgi_drug.collection.aggregate(pipeline)\n",
    "\n",
    "# Print the results\n",
    "for result in results:\n",
    "    print(f\"Drug Claim Source: {result['_id']}, Count: {result['count']}\")"
   ],
   "metadata": {
    "collapsed": false,
    "ExecuteTime": {
     "end_time": "2024-06-11T13:28:28.674499700Z",
     "start_time": "2024-06-11T13:28:28.579329600Z"
    }
   },
   "id": "36f4715c9c030d17"
  },
  {
   "cell_type": "code",
   "execution_count": 4,
   "outputs": [
    {
     "name": "stdout",
     "output_type": "stream",
     "text": [
      "Number of documents with 'concept_id' containing 'chembl:CHEMBL1084513': 35225\n"
     ]
    }
   ],
   "source": [
    "# Query to find documents where 'concept_id' contains 'chembl:CHEMBL1084513'\n",
    "query = {\"concept_id\": {\"$regex\": \"chembl\"}}\n",
    "\n",
    "# Count the documents matching the query\n",
    "count = db_dgi_drug.collection.count_documents(query)\n",
    "\n",
    "# Print the count\n",
    "print(f\"Number of documents with 'concept_id' containing 'chembl:CHEMBL1084513': {count}\")"
   ],
   "metadata": {
    "collapsed": false,
    "ExecuteTime": {
     "end_time": "2024-06-11T13:21:04.765479600Z",
     "start_time": "2024-06-11T13:21:04.633145400Z"
    }
   },
   "id": "7e0c38c4526c554e"
  }
 ],
 "metadata": {
  "kernelspec": {
   "display_name": "Python 3",
   "language": "python",
   "name": "python3"
  },
  "language_info": {
   "codemirror_mode": {
    "name": "ipython",
    "version": 2
   },
   "file_extension": ".py",
   "mimetype": "text/x-python",
   "name": "python",
   "nbconvert_exporter": "python",
   "pygments_lexer": "ipython2",
   "version": "2.7.6"
  }
 },
 "nbformat": 4,
 "nbformat_minor": 5
}
