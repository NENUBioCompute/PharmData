{
 "cells": [
  {
   "cell_type": "code",
   "execution_count": 10,
   "id": "initial_id",
   "metadata": {
    "collapsed": true,
    "ExecuteTime": {
     "end_time": "2024-06-11T11:34:58.252940600Z",
     "start_time": "2024-06-11T11:34:58.234767300Z"
    }
   },
   "outputs": [],
   "source": [
    "import configparser\n",
    "from PharmDataProject.Utilities.Database.dbutils import DBconnection\n",
    "config = configparser.ConfigParser()\n",
    "cfgfile = \"../conf/drugkb.config\"\n",
    "config.read(cfgfile)\n",
    "\n",
    "db_dgi_drug = DBconnection(cfgfile, config.get('dgidb', 'db_name'), config.get('dgidb', 'col_name_3'))"
   ]
  },
  {
   "cell_type": "code",
   "execution_count": 14,
   "outputs": [
    {
     "name": "stdout",
     "output_type": "stream",
     "text": [
      "Drug Claim Source: ChemblDrugs, Count: 14321\n",
      "Drug Claim Source: TTD, Count: 12410\n",
      "Drug Claim Source: GuideToPharmacology, Count: 7233\n",
      "Drug Claim Source: DTC, Count: 6290\n",
      "Drug Claim Source: ChemblInteractions, Count: 2716\n",
      "Drug Claim Source: TdgClinicalTrial, Count: 2419\n",
      "Drug Claim Source: NCI, Count: 1519\n",
      "Drug Claim Source: PharmGKB, Count: 1072\n",
      "Drug Claim Source: TEND, Count: 989\n",
      "Drug Claim Source: JAX-CKB, Count: 733\n",
      "Drug Claim Source: CIViC, Count: 367\n",
      "Drug Claim Source: FDA, Count: 291\n",
      "Drug Claim Source: TALC, Count: 274\n",
      "Drug Claim Source: MyCancerGenome, Count: 252\n",
      "Drug Claim Source: Wikidata, Count: 128\n",
      "Drug Claim Source: ClearityFoundationClinicalTrial, Count: 115\n",
      "Drug Claim Source: MyCancerGenomeClinicalTrial, Count: 112\n",
      "Drug Claim Source: OncoKB, Count: 89\n",
      "Drug Claim Source: CancerCommons, Count: 80\n",
      "Drug Claim Source: ClearityFoundationBiomarkers, Count: 64\n",
      "Drug Claim Source: DoCM, Count: 39\n",
      "Drug Claim Source: COSMIC, Count: 28\n"
     ]
    }
   ],
   "source": [
    "pipeline = [\n",
    "    {\n",
    "        \"$group\": {\n",
    "            \"_id\": \"$drug_claim_source\",\n",
    "            \"count\": {\"$sum\": 1}\n",
    "        }\n",
    "    },\n",
    "    {\n",
    "        \"$sort\": {\"count\": -1}  # sort by count in descending order\n",
    "    }\n",
    "]\n",
    "\n",
    "# Execute the aggregation pipeline\n",
    "results = db_dgi_drug.collection.aggregate(pipeline)\n",
    "\n",
    "# Print the results\n",
    "for result in results:\n",
    "    print(f\"Drug Claim Source: {result['_id']}, Count: {result['count']}\")"
   ],
   "metadata": {
    "collapsed": false,
    "ExecuteTime": {
     "end_time": "2024-06-11T11:36:12.160662100Z",
     "start_time": "2024-06-11T11:36:12.101156600Z"
    }
   },
   "id": "36f4715c9c030d17"
  },
  {
   "cell_type": "code",
   "execution_count": null,
   "outputs": [],
   "source": [],
   "metadata": {
    "collapsed": false
   },
   "id": "7e0c38c4526c554e"
  }
 ],
 "metadata": {
  "kernelspec": {
   "display_name": "Python 3",
   "language": "python",
   "name": "python3"
  },
  "language_info": {
   "codemirror_mode": {
    "name": "ipython",
    "version": 2
   },
   "file_extension": ".py",
   "mimetype": "text/x-python",
   "name": "python",
   "nbconvert_exporter": "python",
   "pygments_lexer": "ipython2",
   "version": "2.7.6"
  }
 },
 "nbformat": 4,
 "nbformat_minor": 5
}
